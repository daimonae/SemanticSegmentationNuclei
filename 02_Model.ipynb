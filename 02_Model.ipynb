{
 "cells": [
  {
   "cell_type": "markdown",
   "id": "ca476392",
   "metadata": {},
   "source": [
    "https://github.com/bnsreenu/python_for_microscopists/blob/master/076-077-078-Unet_nuclei_tutorial.py"
   ]
  },
  {
   "cell_type": "code",
   "execution_count": null,
   "id": "aadb50b9",
   "metadata": {},
   "outputs": [],
   "source": [
    "import this"
   ]
  },
  {
   "cell_type": "code",
   "execution_count": 22,
   "id": "ae1d8997",
   "metadata": {},
   "outputs": [],
   "source": [
    "from skimage.io import imread, imshow\n",
    "import matplotlib.pyplot as plt"
   ]
  },
  {
   "cell_type": "code",
   "execution_count": 1,
   "id": "288bb283",
   "metadata": {
    "scrolled": true
   },
   "outputs": [],
   "source": [
    "import tensorflow as tf"
   ]
  },
  {
   "cell_type": "markdown",
   "id": "c5df6889",
   "metadata": {},
   "source": [
    "## Image Input"
   ]
  },
  {
   "cell_type": "code",
   "execution_count": 7,
   "id": "60151d0e",
   "metadata": {},
   "outputs": [],
   "source": [
    "from numpy import load"
   ]
  },
  {
   "cell_type": "code",
   "execution_count": 9,
   "id": "1a34a57b",
   "metadata": {
    "scrolled": true
   },
   "outputs": [],
   "source": [
    "X_train = load('X_train.npy')\n",
    "X_test = load('X_test.npy')\n",
    "Y_train = load('Y_train.npy')"
   ]
  },
  {
   "cell_type": "code",
   "execution_count": 2,
   "id": "bed7772c",
   "metadata": {},
   "outputs": [],
   "source": [
    "IMG_WIDTH = 128\n",
    "IMG_HEIGHT = 128\n",
    "IMG_CHANNELS = 3"
   ]
  },
  {
   "cell_type": "code",
   "execution_count": 3,
   "id": "c5194b25",
   "metadata": {},
   "outputs": [],
   "source": [
    "inputs = tf.keras.layers.Input((IMG_HEIGHT, IMG_WIDTH, IMG_CHANNELS))\n",
    "s = tf.keras.layers.Lambda(lambda x: x / 255)(inputs)"
   ]
  },
  {
   "cell_type": "markdown",
   "id": "c6317e95",
   "metadata": {},
   "source": [
    "## Model Architecture"
   ]
  },
  {
   "cell_type": "code",
   "execution_count": 4,
   "id": "957bb9c8",
   "metadata": {},
   "outputs": [
    {
     "name": "stdout",
     "output_type": "stream",
     "text": [
      "Model: \"functional_1\"\n",
      "__________________________________________________________________________________________________\n",
      "Layer (type)                    Output Shape         Param #     Connected to                     \n",
      "==================================================================================================\n",
      "input_1 (InputLayer)            [(None, 128, 128, 3) 0                                            \n",
      "__________________________________________________________________________________________________\n",
      "lambda (Lambda)                 (None, 128, 128, 3)  0           input_1[0][0]                    \n",
      "__________________________________________________________________________________________________\n",
      "conv2d (Conv2D)                 (None, 128, 128, 16) 448         lambda[0][0]                     \n",
      "__________________________________________________________________________________________________\n",
      "dropout (Dropout)               (None, 128, 128, 16) 0           conv2d[0][0]                     \n",
      "__________________________________________________________________________________________________\n",
      "conv2d_1 (Conv2D)               (None, 128, 128, 16) 2320        dropout[0][0]                    \n",
      "__________________________________________________________________________________________________\n",
      "max_pooling2d (MaxPooling2D)    (None, 64, 64, 16)   0           conv2d_1[0][0]                   \n",
      "__________________________________________________________________________________________________\n",
      "conv2d_2 (Conv2D)               (None, 64, 64, 32)   4640        max_pooling2d[0][0]              \n",
      "__________________________________________________________________________________________________\n",
      "dropout_1 (Dropout)             (None, 64, 64, 32)   0           conv2d_2[0][0]                   \n",
      "__________________________________________________________________________________________________\n",
      "conv2d_3 (Conv2D)               (None, 64, 64, 32)   9248        dropout_1[0][0]                  \n",
      "__________________________________________________________________________________________________\n",
      "max_pooling2d_1 (MaxPooling2D)  (None, 32, 32, 32)   0           conv2d_3[0][0]                   \n",
      "__________________________________________________________________________________________________\n",
      "conv2d_4 (Conv2D)               (None, 32, 32, 64)   18496       max_pooling2d_1[0][0]            \n",
      "__________________________________________________________________________________________________\n",
      "dropout_2 (Dropout)             (None, 32, 32, 64)   0           conv2d_4[0][0]                   \n",
      "__________________________________________________________________________________________________\n",
      "conv2d_5 (Conv2D)               (None, 32, 32, 64)   36928       dropout_2[0][0]                  \n",
      "__________________________________________________________________________________________________\n",
      "max_pooling2d_2 (MaxPooling2D)  (None, 16, 16, 64)   0           conv2d_5[0][0]                   \n",
      "__________________________________________________________________________________________________\n",
      "conv2d_6 (Conv2D)               (None, 16, 16, 128)  73856       max_pooling2d_2[0][0]            \n",
      "__________________________________________________________________________________________________\n",
      "dropout_3 (Dropout)             (None, 16, 16, 128)  0           conv2d_6[0][0]                   \n",
      "__________________________________________________________________________________________________\n",
      "conv2d_7 (Conv2D)               (None, 16, 16, 128)  147584      dropout_3[0][0]                  \n",
      "__________________________________________________________________________________________________\n",
      "max_pooling2d_3 (MaxPooling2D)  (None, 8, 8, 128)    0           conv2d_7[0][0]                   \n",
      "__________________________________________________________________________________________________\n",
      "conv2d_8 (Conv2D)               (None, 8, 8, 256)    295168      max_pooling2d_3[0][0]            \n",
      "__________________________________________________________________________________________________\n",
      "dropout_4 (Dropout)             (None, 8, 8, 256)    0           conv2d_8[0][0]                   \n",
      "__________________________________________________________________________________________________\n",
      "conv2d_9 (Conv2D)               (None, 8, 8, 256)    590080      dropout_4[0][0]                  \n",
      "__________________________________________________________________________________________________\n",
      "conv2d_transpose (Conv2DTranspo (None, 16, 16, 128)  131200      conv2d_9[0][0]                   \n",
      "__________________________________________________________________________________________________\n",
      "concatenate (Concatenate)       (None, 16, 16, 256)  0           conv2d_transpose[0][0]           \n",
      "                                                                 conv2d_7[0][0]                   \n",
      "__________________________________________________________________________________________________\n",
      "conv2d_10 (Conv2D)              (None, 16, 16, 128)  295040      concatenate[0][0]                \n",
      "__________________________________________________________________________________________________\n",
      "dropout_5 (Dropout)             (None, 16, 16, 128)  0           conv2d_10[0][0]                  \n",
      "__________________________________________________________________________________________________\n",
      "conv2d_11 (Conv2D)              (None, 16, 16, 128)  147584      dropout_5[0][0]                  \n",
      "__________________________________________________________________________________________________\n",
      "conv2d_transpose_1 (Conv2DTrans (None, 32, 32, 64)   32832       conv2d_11[0][0]                  \n",
      "__________________________________________________________________________________________________\n",
      "concatenate_1 (Concatenate)     (None, 32, 32, 128)  0           conv2d_transpose_1[0][0]         \n",
      "                                                                 conv2d_5[0][0]                   \n",
      "__________________________________________________________________________________________________\n",
      "conv2d_12 (Conv2D)              (None, 32, 32, 64)   73792       concatenate_1[0][0]              \n",
      "__________________________________________________________________________________________________\n",
      "dropout_6 (Dropout)             (None, 32, 32, 64)   0           conv2d_12[0][0]                  \n",
      "__________________________________________________________________________________________________\n",
      "conv2d_13 (Conv2D)              (None, 32, 32, 64)   36928       dropout_6[0][0]                  \n",
      "__________________________________________________________________________________________________\n",
      "conv2d_transpose_2 (Conv2DTrans (None, 64, 64, 32)   8224        conv2d_13[0][0]                  \n",
      "__________________________________________________________________________________________________\n",
      "concatenate_2 (Concatenate)     (None, 64, 64, 64)   0           conv2d_transpose_2[0][0]         \n",
      "                                                                 conv2d_3[0][0]                   \n",
      "__________________________________________________________________________________________________\n",
      "conv2d_14 (Conv2D)              (None, 64, 64, 32)   18464       concatenate_2[0][0]              \n",
      "__________________________________________________________________________________________________\n",
      "dropout_7 (Dropout)             (None, 64, 64, 32)   0           conv2d_14[0][0]                  \n",
      "__________________________________________________________________________________________________\n",
      "conv2d_15 (Conv2D)              (None, 64, 64, 32)   9248        dropout_7[0][0]                  \n",
      "__________________________________________________________________________________________________\n",
      "conv2d_transpose_3 (Conv2DTrans (None, 128, 128, 16) 2064        conv2d_15[0][0]                  \n",
      "__________________________________________________________________________________________________\n",
      "concatenate_3 (Concatenate)     (None, 128, 128, 32) 0           conv2d_transpose_3[0][0]         \n",
      "                                                                 conv2d_1[0][0]                   \n",
      "__________________________________________________________________________________________________\n",
      "conv2d_16 (Conv2D)              (None, 128, 128, 16) 4624        concatenate_3[0][0]              \n",
      "__________________________________________________________________________________________________\n",
      "dropout_8 (Dropout)             (None, 128, 128, 16) 0           conv2d_16[0][0]                  \n",
      "__________________________________________________________________________________________________\n",
      "conv2d_17 (Conv2D)              (None, 128, 128, 16) 2320        dropout_8[0][0]                  \n",
      "__________________________________________________________________________________________________\n",
      "conv2d_18 (Conv2D)              (None, 128, 128, 1)  17          conv2d_17[0][0]                  \n",
      "==================================================================================================\n",
      "Total params: 1,941,105\n",
      "Trainable params: 1,941,105\n",
      "Non-trainable params: 0\n",
      "__________________________________________________________________________________________________\n"
     ]
    }
   ],
   "source": [
    "# Contraction path\n",
    "# he_normal für Anfangsgewichte, Normalverteilung, die truncated und um 0 centered ist\n",
    "c1 = tf.keras.layers.Conv2D(16, (3, 3), activation='relu', kernel_initializer='he_normal', padding='same')(s)\n",
    "c1 = tf.keras.layers.Dropout(0.1)(c1)\n",
    "c1 = tf.keras.layers.Conv2D(16, (3, 3), activation='relu', kernel_initializer='he_normal', padding='same')(c1)\n",
    "p1 = tf.keras.layers.MaxPooling2D((2, 2))(c1)\n",
    "\n",
    "c2 = tf.keras.layers.Conv2D(32, (3, 3), activation='relu', kernel_initializer='he_normal', padding='same')(p1)\n",
    "c2 = tf.keras.layers.Dropout(0.1)(c2)\n",
    "c2 = tf.keras.layers.Conv2D(32, (3, 3), activation='relu', kernel_initializer='he_normal', padding='same')(c2)\n",
    "p2 = tf.keras.layers.MaxPooling2D((2, 2))(c2)\n",
    " \n",
    "c3 = tf.keras.layers.Conv2D(64, (3, 3), activation='relu', kernel_initializer='he_normal', padding='same')(p2)\n",
    "c3 = tf.keras.layers.Dropout(0.2)(c3)\n",
    "c3 = tf.keras.layers.Conv2D(64, (3, 3), activation='relu', kernel_initializer='he_normal', padding='same')(c3)\n",
    "p3 = tf.keras.layers.MaxPooling2D((2, 2))(c3)\n",
    " \n",
    "c4 = tf.keras.layers.Conv2D(128, (3, 3), activation='relu', kernel_initializer='he_normal', padding='same')(p3)\n",
    "c4 = tf.keras.layers.Dropout(0.2)(c4)\n",
    "c4 = tf.keras.layers.Conv2D(128, (3, 3), activation='relu', kernel_initializer='he_normal', padding='same')(c4)\n",
    "p4 = tf.keras.layers.MaxPooling2D(pool_size=(2, 2))(c4)\n",
    " \n",
    "c5 = tf.keras.layers.Conv2D(256, (3, 3), activation='relu', kernel_initializer='he_normal', padding='same')(p4)\n",
    "c5 = tf.keras.layers.Dropout(0.3)(c5)\n",
    "c5 = tf.keras.layers.Conv2D(256, (3, 3), activation='relu', kernel_initializer='he_normal', padding='same')(c5)\n",
    "\n",
    "# Expansive path \n",
    "# Transpose: upscaling statt wie vorher downscaling\n",
    "u6 = tf.keras.layers.Conv2DTranspose(128, (2, 2), strides=(2, 2), padding='same')(c5)\n",
    "u6 = tf.keras.layers.concatenate([u6, c4])\n",
    "c6 = tf.keras.layers.Conv2D(128, (3, 3), activation='relu', kernel_initializer='he_normal', padding='same')(u6)\n",
    "c6 = tf.keras.layers.Dropout(0.2)(c6)\n",
    "c6 = tf.keras.layers.Conv2D(128, (3, 3), activation='relu', kernel_initializer='he_normal', padding='same')(c6)\n",
    " \n",
    "u7 = tf.keras.layers.Conv2DTranspose(64, (2, 2), strides=(2, 2), padding='same')(c6)\n",
    "u7 = tf.keras.layers.concatenate([u7, c3])\n",
    "c7 = tf.keras.layers.Conv2D(64, (3, 3), activation='relu', kernel_initializer='he_normal', padding='same')(u7)\n",
    "c7 = tf.keras.layers.Dropout(0.2)(c7)\n",
    "c7 = tf.keras.layers.Conv2D(64, (3, 3), activation='relu', kernel_initializer='he_normal', padding='same')(c7)\n",
    " \n",
    "u8 = tf.keras.layers.Conv2DTranspose(32, (2, 2), strides=(2, 2), padding='same')(c7)\n",
    "u8 = tf.keras.layers.concatenate([u8, c2])\n",
    "c8 = tf.keras.layers.Conv2D(32, (3, 3), activation='relu', kernel_initializer='he_normal', padding='same')(u8)\n",
    "c8 = tf.keras.layers.Dropout(0.1)(c8)\n",
    "c8 = tf.keras.layers.Conv2D(32, (3, 3), activation='relu', kernel_initializer='he_normal', padding='same')(c8)\n",
    " \n",
    "u9 = tf.keras.layers.Conv2DTranspose(16, (2, 2), strides=(2, 2), padding='same')(c8)\n",
    "u9 = tf.keras.layers.concatenate([u9, c1], axis=3)\n",
    "c9 = tf.keras.layers.Conv2D(16, (3, 3), activation='relu', kernel_initializer='he_normal', padding='same')(u9)\n",
    "c9 = tf.keras.layers.Dropout(0.1)(c9)\n",
    "c9 = tf.keras.layers.Conv2D(16, (3, 3), activation='relu', kernel_initializer='he_normal', padding='same')(c9)\n",
    "\n",
    "# Output Layer\n",
    "outputs = tf.keras.layers.Conv2D(1, (1, 1), activation='sigmoid')(c9)\n",
    " \n",
    "model = tf.keras.Model(inputs=[inputs], outputs=[outputs])\n",
    "model.compile(optimizer='adam', loss='binary_crossentropy', metrics=['accuracy'])\n",
    "model.summary()"
   ]
  },
  {
   "cell_type": "markdown",
   "id": "eb57cd18",
   "metadata": {},
   "source": [
    "## Model fit"
   ]
  },
  {
   "cell_type": "code",
   "execution_count": 5,
   "id": "36609970",
   "metadata": {},
   "outputs": [],
   "source": [
    "callbacks = [tf.keras.callbacks.ModelCheckpoint('model_for_nuclei.h5', verbose=1, save_best_only=True),\n",
    "             tf.keras.callbacks.EarlyStopping(patience=2, monitor='val_loss'),\n",
    "             tf.keras.callbacks.TensorBoard(log_dir='logs')]"
   ]
  },
  {
   "cell_type": "code",
   "execution_count": 10,
   "id": "1588d435",
   "metadata": {},
   "outputs": [
    {
     "name": "stdout",
     "output_type": "stream",
     "text": [
      "Epoch 1/25\n",
      " 1/38 [..............................] - ETA: 0s - loss: 0.7081 - accuracy: 0.5179WARNING:tensorflow:From C:\\Users\\Lain\\anaconda3\\lib\\site-packages\\tensorflow\\python\\ops\\summary_ops_v2.py:1277: stop (from tensorflow.python.eager.profiler) is deprecated and will be removed after 2020-07-01.\n",
      "Instructions for updating:\n",
      "use `tf.profiler.experimental.stop` instead.\n",
      "38/38 [==============================] - ETA: 0s - loss: 0.4984 - accuracy: 0.7937\n",
      "Epoch 00001: val_loss improved from inf to 0.28110, saving model to model_for_nuclei.h5\n",
      "38/38 [==============================] - 77s 2s/step - loss: 0.4984 - accuracy: 0.7937 - val_loss: 0.2811 - val_accuracy: 0.8497\n",
      "Epoch 2/25\n",
      "38/38 [==============================] - ETA: 0s - loss: 0.2653 - accuracy: 0.8637\n",
      "Epoch 00002: val_loss improved from 0.28110 to 0.18550, saving model to model_for_nuclei.h5\n",
      "38/38 [==============================] - 76s 2s/step - loss: 0.2653 - accuracy: 0.8637 - val_loss: 0.1855 - val_accuracy: 0.9243\n",
      "Epoch 3/25\n",
      "38/38 [==============================] - ETA: 0s - loss: 0.1782 - accuracy: 0.9367\n",
      "Epoch 00003: val_loss improved from 0.18550 to 0.15136, saving model to model_for_nuclei.h5\n",
      "38/38 [==============================] - 77s 2s/step - loss: 0.1782 - accuracy: 0.9367 - val_loss: 0.1514 - val_accuracy: 0.9367\n",
      "Epoch 4/25\n",
      "38/38 [==============================] - ETA: 0s - loss: 0.1447 - accuracy: 0.9464\n",
      "Epoch 00004: val_loss improved from 0.15136 to 0.12638, saving model to model_for_nuclei.h5\n",
      "38/38 [==============================] - 77s 2s/step - loss: 0.1447 - accuracy: 0.9464 - val_loss: 0.1264 - val_accuracy: 0.9501\n",
      "Epoch 5/25\n",
      "38/38 [==============================] - ETA: 0s - loss: 0.1207 - accuracy: 0.9548\n",
      "Epoch 00005: val_loss improved from 0.12638 to 0.11350, saving model to model_for_nuclei.h5\n",
      "38/38 [==============================] - 79s 2s/step - loss: 0.1207 - accuracy: 0.9548 - val_loss: 0.1135 - val_accuracy: 0.9569\n",
      "Epoch 6/25\n",
      "38/38 [==============================] - ETA: 0s - loss: 0.1131 - accuracy: 0.9568\n",
      "Epoch 00006: val_loss improved from 0.11350 to 0.10537, saving model to model_for_nuclei.h5\n",
      "38/38 [==============================] - 78s 2s/step - loss: 0.1131 - accuracy: 0.9568 - val_loss: 0.1054 - val_accuracy: 0.9568\n",
      "Epoch 7/25\n",
      "38/38 [==============================] - ETA: 0s - loss: 0.1086 - accuracy: 0.9591\n",
      "Epoch 00007: val_loss improved from 0.10537 to 0.10063, saving model to model_for_nuclei.h5\n",
      "38/38 [==============================] - 82s 2s/step - loss: 0.1086 - accuracy: 0.9591 - val_loss: 0.1006 - val_accuracy: 0.9608\n",
      "Epoch 8/25\n",
      "38/38 [==============================] - ETA: 0s - loss: 0.1045 - accuracy: 0.9600\n",
      "Epoch 00008: val_loss improved from 0.10063 to 0.09948, saving model to model_for_nuclei.h5\n",
      "38/38 [==============================] - 79s 2s/step - loss: 0.1045 - accuracy: 0.9600 - val_loss: 0.0995 - val_accuracy: 0.9622\n",
      "Epoch 9/25\n",
      "38/38 [==============================] - ETA: 0s - loss: 0.1035 - accuracy: 0.9608\n",
      "Epoch 00009: val_loss improved from 0.09948 to 0.09703, saving model to model_for_nuclei.h5\n",
      "38/38 [==============================] - 78s 2s/step - loss: 0.1035 - accuracy: 0.9608 - val_loss: 0.0970 - val_accuracy: 0.9627\n",
      "Epoch 10/25\n",
      "38/38 [==============================] - ETA: 0s - loss: 0.0999 - accuracy: 0.9621\n",
      "Epoch 00010: val_loss improved from 0.09703 to 0.09154, saving model to model_for_nuclei.h5\n",
      "38/38 [==============================] - 77s 2s/step - loss: 0.0999 - accuracy: 0.9621 - val_loss: 0.0915 - val_accuracy: 0.9633\n",
      "Epoch 11/25\n",
      "38/38 [==============================] - ETA: 0s - loss: 0.0943 - accuracy: 0.9636\n",
      "Epoch 00011: val_loss improved from 0.09154 to 0.08994, saving model to model_for_nuclei.h5\n",
      "38/38 [==============================] - 77s 2s/step - loss: 0.0943 - accuracy: 0.9636 - val_loss: 0.0899 - val_accuracy: 0.9646\n",
      "Epoch 12/25\n",
      "38/38 [==============================] - ETA: 0s - loss: 0.0925 - accuracy: 0.9645\n",
      "Epoch 00012: val_loss improved from 0.08994 to 0.08668, saving model to model_for_nuclei.h5\n",
      "38/38 [==============================] - 77s 2s/step - loss: 0.0925 - accuracy: 0.9645 - val_loss: 0.0867 - val_accuracy: 0.9660\n",
      "Epoch 13/25\n",
      "38/38 [==============================] - ETA: 0s - loss: 0.0909 - accuracy: 0.9646\n",
      "Epoch 00013: val_loss improved from 0.08668 to 0.08473, saving model to model_for_nuclei.h5\n",
      "38/38 [==============================] - 77s 2s/step - loss: 0.0909 - accuracy: 0.9646 - val_loss: 0.0847 - val_accuracy: 0.9649\n",
      "Epoch 14/25\n",
      "38/38 [==============================] - ETA: 0s - loss: 0.0925 - accuracy: 0.9646\n",
      "Epoch 00014: val_loss did not improve from 0.08473\n",
      "38/38 [==============================] - 77s 2s/step - loss: 0.0925 - accuracy: 0.9646 - val_loss: 0.0928 - val_accuracy: 0.9623\n",
      "Epoch 15/25\n",
      "38/38 [==============================] - ETA: 0s - loss: 0.0897 - accuracy: 0.9656\n",
      "Epoch 00015: val_loss improved from 0.08473 to 0.08338, saving model to model_for_nuclei.h5\n",
      "38/38 [==============================] - 79s 2s/step - loss: 0.0897 - accuracy: 0.9656 - val_loss: 0.0834 - val_accuracy: 0.9665\n",
      "Epoch 16/25\n",
      "38/38 [==============================] - ETA: 0s - loss: 0.0858 - accuracy: 0.9670\n",
      "Epoch 00016: val_loss improved from 0.08338 to 0.07980, saving model to model_for_nuclei.h5\n",
      "38/38 [==============================] - 85s 2s/step - loss: 0.0858 - accuracy: 0.9670 - val_loss: 0.0798 - val_accuracy: 0.9681\n",
      "Epoch 17/25\n",
      "38/38 [==============================] - ETA: 0s - loss: 0.0863 - accuracy: 0.9662\n",
      "Epoch 00017: val_loss did not improve from 0.07980\n",
      "38/38 [==============================] - 82s 2s/step - loss: 0.0863 - accuracy: 0.9662 - val_loss: 0.0808 - val_accuracy: 0.9682\n",
      "Epoch 18/25\n",
      "38/38 [==============================] - ETA: 0s - loss: 0.0881 - accuracy: 0.9663\n",
      "Epoch 00018: val_loss did not improve from 0.07980\n",
      "38/38 [==============================] - 77s 2s/step - loss: 0.0881 - accuracy: 0.9663 - val_loss: 0.0829 - val_accuracy: 0.9673\n"
     ]
    }
   ],
   "source": [
    "results = model.fit(X_train, Y_train, validation_split=0.1, batch_size=16, epochs=25, callbacks=callbacks)"
   ]
  },
  {
   "cell_type": "markdown",
   "id": "eb79d275",
   "metadata": {},
   "source": [
    "## Model predict"
   ]
  },
  {
   "cell_type": "code",
   "execution_count": 15,
   "id": "6df2018b",
   "metadata": {},
   "outputs": [],
   "source": [
    "idx = np.random.randint(0, len(X_train))"
   ]
  },
  {
   "cell_type": "code",
   "execution_count": 16,
   "id": "1d8110a1",
   "metadata": {},
   "outputs": [
    {
     "name": "stdout",
     "output_type": "stream",
     "text": [
      "19/19 [==============================] - 12s 629ms/step\n",
      "3/3 [==============================] - 1s 254ms/step\n",
      "3/3 [==============================] - 1s 238ms/step\n"
     ]
    }
   ],
   "source": [
    "preds_train = model.predict(X_train[:int(X_train.shape[0]*0.9)], verbose=1)\n",
    "preds_val = model.predict(X_train[int(X_train.shape[0]*0.9):], verbose=1)\n",
    "preds_test = model.predict(X_test, verbose=1)"
   ]
  },
  {
   "cell_type": "code",
   "execution_count": 17,
   "id": "2d010987",
   "metadata": {},
   "outputs": [],
   "source": [
    "preds_train_t = (preds_train > 0.5).astype(np.uint8)\n",
    "preds_val_t = (preds_val > 0.5).astype(np.uint8)\n",
    "preds_test_t = (preds_test > 0.5).astype(np.uint8)"
   ]
  },
  {
   "cell_type": "code",
   "execution_count": 23,
   "id": "fa407a9c",
   "metadata": {},
   "outputs": [
    {
     "data": {
      "image/png": "[encoded data removed]",
      "text/plain": [
       "<Figure size 432x288 with 1 Axes>"
      ]
     },
     "metadata": {
      "needs_background": "light"
     },
     "output_type": "display_data"
    },
    {
     "data": {
      "image/png": "[encoded data removed]",
      "text/plain": [
       "<Figure size 432x288 with 1 Axes>"
      ]
     },
     "metadata": {
      "needs_background": "light"
     },
     "output_type": "display_data"
    },
    {
     "name": "stderr",
     "output_type": "stream",
     "text": [
      "C:\\Users\\Lain\\anaconda3\\lib\\site-packages\\skimage\\io\\_plugins\\matplotlib_plugin.py:150: UserWarning: Low image data range; displaying image with stretched contrast.\n",
      "  lo, hi, cmap = _get_display_range(image)\n"
     ]
    },
    {
     "data": {
      "image/png": "[encoded data removed]",
      "text/plain": [
       "<Figure size 432x288 with 2 Axes>"
      ]
     },
     "metadata": {
      "needs_background": "light"
     },
     "output_type": "display_data"
    }
   ],
   "source": [
    "ix = np.random.randint(0, len(preds_train_t))\n",
    "imshow(X_train[ix])\n",
    "plt.show()\n",
    "imshow(np.squeeze(Y_train[ix]))\n",
    "plt.show()\n",
    "imshow(np.squeeze(preds_train_t[ix]))\n",
    "plt.show()"
   ]
  },
  {
   "cell_type": "code",
   "execution_count": 25,
   "id": "f673e14e",
   "metadata": {},
   "outputs": [
    {
     "data": {
      "image/png": "[encoded data removed]",
      "text/plain": [
       "<Figure size 432x288 with 2 Axes>"
      ]
     },
     "metadata": {
      "needs_background": "light"
     },
     "output_type": "display_data"
    },
    {
     "data": {
      "image/png": "[encoded data removed]",
      "text/plain": [
       "<Figure size 432x288 with 1 Axes>"
      ]
     },
     "metadata": {
      "needs_background": "light"
     },
     "output_type": "display_data"
    },
    {
     "data": {
      "image/png": "[encoded data removed]",
      "text/plain": [
       "<Figure size 432x288 with 2 Axes>"
      ]
     },
     "metadata": {
      "needs_background": "light"
     },
     "output_type": "display_data"
    }
   ],
   "source": [
    "# Perform a sanity check on some random validation samples\n",
    "ix = np.random.randint(0, len(preds_val_t))\n",
    "imshow(X_train[int(X_train.shape[0]*0.9):][ix])\n",
    "plt.show()\n",
    "imshow(np.squeeze(Y_train[int(Y_train.shape[0]*0.9):][ix]))\n",
    "plt.show()\n",
    "imshow(np.squeeze(preds_val_t[ix]))\n",
    "plt.show()"
   ]
  },
  {
   "cell_type": "code",
   "execution_count": 26,
   "id": "a5de383b",
   "metadata": {},
   "outputs": [
    {
     "name": "stdout",
     "output_type": "stream",
     "text": [
      "^C\n"
     ]
    }
   ],
   "source": [
    "! tensorboard --logdir=logs/ --host localhost --port 8088"
   ]
  },
  {
   "cell_type": "markdown",
   "id": "2919101d",
   "metadata": {},
   "source": [
    "im Browser\n",
    "http://localhost:8088/#scalars"
   ]
  },
  {
   "cell_type": "code",
   "execution_count": null,
   "id": "f72aeba2",
   "metadata": {},
   "outputs": [],
   "source": []
  },
  {
   "cell_type": "code",
   "execution_count": null,
   "id": "83d85da7",
   "metadata": {},
   "outputs": [],
   "source": []
  },
  {
   "cell_type": "code",
   "execution_count": null,
   "id": "94382f6f",
   "metadata": {},
   "outputs": [],
   "source": []
  },
  {
   "cell_type": "code",
   "execution_count": null,
   "id": "a9830fed",
   "metadata": {},
   "outputs": [],
   "source": []
  },
  {
   "cell_type": "code",
   "execution_count": null,
   "id": "0e0097d6",
   "metadata": {},
   "outputs": [],
   "source": []
  },
  {
   "cell_type": "code",
   "execution_count": null,
   "id": "67156f0c",
   "metadata": {},
   "outputs": [],
   "source": []
  }
 ],
 "metadata": {
  "kernelspec": {
   "display_name": "Python 3",
   "language": "python",
   "name": "python3"
  },
  "language_info": {
   "codemirror_mode": {
    "name": "ipython",
    "version": 3
   },
   "file_extension": ".py",
   "mimetype": "text/x-python",
   "name": "python",
   "nbconvert_exporter": "python",
   "pygments_lexer": "ipython3",
   "version": "3.8.8"
  },
  "varInspector": {
   "cols": {
    "lenName": 16,
    "lenType": 16,
    "lenVar": 40
   },
   "kernels_config": {
    "python": {
     "delete_cmd_postfix": "",
     "delete_cmd_prefix": "del ",
     "library": "var_list.py",
     "varRefreshCmd": "print(var_dic_list())"
    },
    "r": {
     "delete_cmd_postfix": ") ",
     "delete_cmd_prefix": "rm(",
     "library": "var_list.r",
     "varRefreshCmd": "cat(var_dic_list()) "
    }
   },
   "types_to_exclude": [
    "module",
    "function",
    "builtin_function_or_method",
    "instance",
    "_Feature"
   ],
   "window_display": false
  }
 },
 "nbformat": 4,
 "nbformat_minor": 5
}
